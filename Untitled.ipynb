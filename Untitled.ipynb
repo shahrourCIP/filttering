{
 "cells": [
  {
   "cell_type": "code",
   "execution_count": 5,
   "id": "87f7205a",
   "metadata": {},
   "outputs": [],
   "source": [
    "import os\n",
    "from os import listdir\n",
    "from os.path import isfile, join\n",
    "\n",
    "mypath = os.getcwd()\n",
    "files = [file for file in [f for f in listdir(mypath) if isfile(join(mypath, f))] if \"csv\" in file]"
   ]
  },
  {
   "cell_type": "code",
   "execution_count": 41,
   "id": "5610465d",
   "metadata": {},
   "outputs": [],
   "source": [
    "import pandas as pd\n",
    "d0shape = []\n",
    "d1shape = []\n",
    "file_name = []"
   ]
  },
  {
   "cell_type": "code",
   "execution_count": 42,
   "id": "edb6e91d",
   "metadata": {},
   "outputs": [],
   "source": [
    "for file in files:\n",
    "    data = pd.read_csv(file)\n",
    "    d0 = data[data[\"Unnamed: 5\"] == 0].iloc[: , :6]\n",
    "    d1 = data[data[\"Unnamed: 5\"] == 1].iloc[: , :6]\n",
    "    d0sh, d1sh = d0.shape, d1.shape\n",
    "    d0shape.append(d0sh)\n",
    "    d1shape.append(d1sh)\n",
    "    file_name.append(file)\n",
    "    filename1 = f\"found\\\\{file}.csv\"\n",
    "    filename0 = f\"Notfound\\\\{file}.csv\"\n",
    "    d0.to_csv(filename0)\n",
    "    d1.to_csv(filename1)"
   ]
  },
  {
   "cell_type": "code",
   "execution_count": 49,
   "id": "e4b02315",
   "metadata": {},
   "outputs": [
    {
     "data": {
      "text/plain": [
       "200"
      ]
     },
     "execution_count": 49,
     "metadata": {},
     "output_type": "execute_result"
    }
   ],
   "source": [
    "\n",
    "sum([i[0] for i in d0shape])"
   ]
  },
  {
   "cell_type": "code",
   "execution_count": 50,
   "id": "aa128119",
   "metadata": {},
   "outputs": [
    {
     "data": {
      "text/plain": [
       "202"
      ]
     },
     "execution_count": 50,
     "metadata": {},
     "output_type": "execute_result"
    }
   ],
   "source": [
    "d1shape\n",
    "sum([i[0] for i in d1shape])"
   ]
  },
  {
   "cell_type": "code",
   "execution_count": 45,
   "id": "f4609180",
   "metadata": {},
   "outputs": [
    {
     "data": {
      "text/plain": [
       "['JOR PMP with search link in 2012(1).csv',\n",
       " 'JOR PMP with search link in 2013 (1).csv',\n",
       " 'JOR PMP with search link in 2014(1).csv',\n",
       " 'JOR PMP with search link in 2015 (1).csv',\n",
       " 'JOR PMP with search link in 2016 (1).csv',\n",
       " 'JOR PMP with search link in 2017(1).csv']"
      ]
     },
     "execution_count": 45,
     "metadata": {},
     "output_type": "execute_result"
    }
   ],
   "source": [
    "file_name"
   ]
  },
  {
   "cell_type": "code",
   "execution_count": null,
   "id": "29bd385e",
   "metadata": {},
   "outputs": [],
   "source": []
  },
  {
   "cell_type": "code",
   "execution_count": null,
   "id": "08e8450f",
   "metadata": {},
   "outputs": [],
   "source": []
  },
  {
   "cell_type": "code",
   "execution_count": 38,
   "id": "2357ee7e",
   "metadata": {},
   "outputs": [
    {
     "data": {
      "text/plain": [
       "(52, 6)"
      ]
     },
     "execution_count": 38,
     "metadata": {},
     "output_type": "execute_result"
    }
   ],
   "source": [
    "data[data[\"Unnamed: 5\"] == 0].iloc[: , :6]\n",
    "data[data[\"Unnamed: 5\"] == 1].iloc[: , :6].shape"
   ]
  },
  {
   "cell_type": "code",
   "execution_count": 30,
   "id": "4ab478bf",
   "metadata": {},
   "outputs": [],
   "source": [
    "with open('test.txt', 'w') as a:\n",
    "    a.write('thecunixdisaster\\t 05 dfd sfsf')\n",
    "    a.\n",
    "a.close()"
   ]
  },
  {
   "cell_type": "code",
   "execution_count": 32,
   "id": "c3eee0a0",
   "metadata": {},
   "outputs": [],
   "source": [
    "a = open('test.txt', 'w')\n",
    "a.write('theunixdisaster\\t ')\n",
    "a.close()05"
   ]
  },
  {
   "cell_type": "code",
   "execution_count": 36,
   "id": "d5bdbc9f",
   "metadata": {},
   "outputs": [
    {
     "data": {
      "text/plain": [
       "21"
      ]
     },
     "execution_count": 36,
     "metadata": {},
     "output_type": "execute_result"
    }
   ],
   "source": [
    "a = open('test.txt', 'w')\n",
    "a.write('theunixdisaster\\t 06 \\n')"
   ]
  },
  {
   "cell_type": "code",
   "execution_count": 39,
   "id": "d95ad501",
   "metadata": {},
   "outputs": [
    {
     "data": {
      "text/plain": [
       "'C:\\\\Users\\\\AbdalrahmanShahrour\\\\Desktop\\\\Filtter'"
      ]
     },
     "execution_count": 39,
     "metadata": {},
     "output_type": "execute_result"
    }
   ],
   "source": [
    "mypath"
   ]
  },
  {
   "cell_type": "code",
   "execution_count": null,
   "id": "13e402db",
   "metadata": {},
   "outputs": [],
   "source": []
  }
 ],
 "metadata": {
  "kernelspec": {
   "display_name": "Python 3 (ipykernel)",
   "language": "python",
   "name": "python3"
  },
  "language_info": {
   "codemirror_mode": {
    "name": "ipython",
    "version": 3
   },
   "file_extension": ".py",
   "mimetype": "text/x-python",
   "name": "python",
   "nbconvert_exporter": "python",
   "pygments_lexer": "ipython3",
   "version": "3.10.9"
  }
 },
 "nbformat": 4,
 "nbformat_minor": 5
}
